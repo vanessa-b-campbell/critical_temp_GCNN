{
 "cells": [
  {
   "cell_type": "code",
   "execution_count": 1,
   "metadata": {},
   "outputs": [],
   "source": [
    "\n",
    "from rdkit import Chem\n",
    "from rdkit.Chem import Draw\n",
    "mol = Chem.MolFromSmiles('CC(CO)CO')\n",
    "img = Draw.MolToImage(mol)\n",
    "img.show()"
   ]
  },
  {
   "cell_type": "code",
   "execution_count": null,
   "metadata": {},
   "outputs": [],
   "source": [
    "for index in range(0,len(bad_mols)):  \n",
    "    mol = Chem.MolFromSmiles(bad_mols[index][0])\n",
    "    img = Draw.MolToImage(mol)\n",
    "    print(img.show())"
   ]
  }
 ],
 "metadata": {
  "kernelspec": {
   "display_name": "gcnn_env_2",
   "language": "python",
   "name": "python3"
  },
  "language_info": {
   "codemirror_mode": {
    "name": "ipython",
    "version": 3
   },
   "file_extension": ".py",
   "mimetype": "text/x-python",
   "name": "python",
   "nbconvert_exporter": "python",
   "pygments_lexer": "ipython3",
   "version": "3.7.16"
  },
  "orig_nbformat": 4,
  "vscode": {
   "interpreter": {
    "hash": "5a9dd2d0b0ae9df196c3f753b57417d372381dd0c873a248acb0ae9b4849b346"
   }
  }
 },
 "nbformat": 4,
 "nbformat_minor": 2
}
